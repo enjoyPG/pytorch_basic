{
  "nbformat": 4,
  "nbformat_minor": 0,
  "metadata": {
    "colab": {
      "provenance": [],
      "gpuType": "T4",
      "authorship_tag": "ABX9TyO1IAhziXYDu2Jpbs7dJef+",
      "include_colab_link": true
    },
    "kernelspec": {
      "name": "python3",
      "display_name": "Python 3"
    },
    "language_info": {
      "name": "python"
    },
    "accelerator": "GPU"
  },
  "cells": [
    {
      "cell_type": "markdown",
      "metadata": {
        "id": "view-in-github",
        "colab_type": "text"
      },
      "source": [
        "<a href=\"https://colab.research.google.com/github/enjoyPG/pytorch_basic/blob/main/0_Study%20/1_Tencho/4_CNN_Tencho.ipynb\" target=\"_parent\"><img src=\"https://colab.research.google.com/assets/colab-badge.svg\" alt=\"Open In Colab\"/></a>"
      ]
    },
    {
      "cell_type": "markdown",
      "source": [
        "## CNN\n",
        "#### 1. CNN은 작은 필터를 이용해 이미지로부터 특징을 뽑아내는 알고리즘\n",
        "#### 2. CNN이 필요한 이유는 4K UHD사진은 약 840만개의 픽셀을 갖는데 각 픽셀별로 가중치를 가진다면 엄청난 시간, 공간 이슈가 발생 추가적으로 정확도 문제도 발생 // 이를 극복하기 위해 합성곱은 작은 필터를 이용해 이미지로부터 특징을 추출해냄\n",
        "#### 3. 기존 MLP방식은 시간, 공간 이슈가 있지만 모든 픽셀에 대해 완벽한 가중치를 가질 수 있다. 다만 특정 이미지 위치가 바뀌면 완전히 무용지물이 된다. 반대로 CNN은 커널을 이리저리 움직이면서 특징을 추출하므로 위치와 무관하게 특징을 잡아 낼 수 있다. 그리고 이미지 크기와 무관하게 커널의 크기는 변함이 없기 때문에 학습할 가중치도 줄어들고 특징의 위치가 바뀌는 문제도 극복이 가능하다\n",
        "\n",
        "##### 커널: 이미지로투터 특징을 추출하기 위한 가중치를 행렬로 나타낸 것\n",
        "##### 필터: 커널의 집합\n",
        "##### 특징맵(Feature Map): 필터를 거쳐서 만들어진 결과\n",
        "\n",
        "<img src=\"https://i0.wp.com/developersbreach.com/wp-content/uploads/2020/08/cnn_banner.png?fit=1200%2C564&ssl=1\">\n",
        "\n",
        "<img src=\"https://miro.medium.com/v2/resize:fit:1400/1*rlkTTRUNCnfXGD0RGNF5Eg.jpeg\">\n",
        "       "
      ],
      "metadata": {
        "id": "UHB9f-yZO3p3"
      }
    },
    {
      "cell_type": "markdown",
      "source": [
        "###1. 데이터 전처리(CIFAR)"
      ],
      "metadata": {
        "id": "CbNoGB4FChLu"
      }
    },
    {
      "cell_type": "code",
      "execution_count": 18,
      "metadata": {
        "colab": {
          "base_uri": "https://localhost:8080/",
          "height": 72
        },
        "id": "ecguumEyFn8z",
        "outputId": "416e499b-f5a5-47ee-d13f-2ccb084cb746"
      },
      "outputs": [
        {
          "output_type": "execute_result",
          "data": {
            "text/plain": [
              "'\\nimport matplotlib.pyplot as plt\\n\\nfrom torchvision.datasets.cifar import CIFAR10\\nfrom torchvision.transforms import ToTensor\\n\\n#CIFAR-10 데이터셋 불러오기\\ntraining_data = CIFAR10(\\n    root=\"./\",\\n    train=True,\\n    download=True,\\n    transform=ToTensor()\\n)\\ntest_data = CIFAR10(\\n    root=\"./\",\\n    train=False,\\n    download=True,\\n    transform=ToTensor()\\n)\\nfor i in range(9):\\n  plt.subplot(3,3,i+1)\\n  plt.imshow(training_data.data[i])\\nplt.show()\\n'"
            ],
            "application/vnd.google.colaboratory.intrinsic+json": {
              "type": "string"
            }
          },
          "metadata": {},
          "execution_count": 18
        }
      ],
      "source": [
        "\"\"\"\n",
        "import matplotlib.pyplot as plt\n",
        "\n",
        "from torchvision.datasets.cifar import CIFAR10\n",
        "from torchvision.transforms import ToTensor\n",
        "\n",
        "#CIFAR-10 데이터셋 불러오기\n",
        "training_data = CIFAR10(\n",
        "    root=\"./\",\n",
        "    train=True,\n",
        "    download=True,\n",
        "    transform=ToTensor()\n",
        ")\n",
        "test_data = CIFAR10(\n",
        "    root=\"./\",\n",
        "    train=False,\n",
        "    download=True,\n",
        "    transform=ToTensor()\n",
        ")\n",
        "for i in range(9):\n",
        "  plt.subplot(3,3,i+1)\n",
        "  plt.imshow(training_data.data[i])\n",
        "plt.show()\n",
        "\"\"\"\n"
      ]
    },
    {
      "cell_type": "code",
      "source": [],
      "metadata": {
        "id": "qoCfTPRXClWu"
      },
      "execution_count": 18,
      "outputs": []
    },
    {
      "cell_type": "markdown",
      "source": [
        "###1-2 데이터 증강(Data Augmentation)\n",
        "####transforms를 사용해 데이터 증강시키기\n",
        "\n",
        "###1-3 이미지 정규화\n",
        "####평균이 0 표준편차가 1인 정규분포로 변경해줌"
      ],
      "metadata": {
        "id": "HAyH6OBUC_P2"
      }
    },
    {
      "cell_type": "code",
      "source": [
        "\"\"\"\n",
        "import matplotlib.pyplot as plt\n",
        "import torchvision.transforms as T\n",
        "\n",
        "from torchvision.datasets.cifar import CIFAR10\n",
        "from torchvision.transforms import Compose\n",
        "from torchvision.transforms import RandomHorizontalFlip, RandomCrop, Normalize\n",
        "\n",
        "transforms = Compose([\n",
        "    T.ToPILImage(),\n",
        "    RandomCrop((32,32),padding=4),\n",
        "    RandomHorizontalFlip(p=0.5),\n",
        "\n",
        "    #이미지정규화\n",
        "    T.ToTensor(),\n",
        "    Normalize(mean=(0.4914, 0.4822, 0.4465), std=(0.247, 0.243, 0.261)),\n",
        "    T.ToPILImage()\n",
        "])\n",
        "\n",
        "training_data = CIFAR10(\n",
        "    root=\"./\",\n",
        "    train=True,\n",
        "    download=True,\n",
        "    transform=transforms\n",
        ")\n",
        "\n",
        "test_data = CIFAR10(\n",
        "    root=\"./\",\n",
        "    train=False,\n",
        "    download=True,\n",
        "    transform=transforms\n",
        ")\n",
        "\n",
        "for i in range(9):\n",
        "  plt.subplot(3,3,i+1)\n",
        "  plt.imshow(transforms(training_data.data[i]))\n",
        "plt.show()\n",
        "\"\"\""
      ],
      "metadata": {
        "colab": {
          "base_uri": "https://localhost:8080/",
          "height": 90
        },
        "id": "mxAztqUYCxoG",
        "outputId": "c44bdf78-6015-4275-e29d-277b7a2709fe"
      },
      "execution_count": 19,
      "outputs": [
        {
          "output_type": "execute_result",
          "data": {
            "text/plain": [
              "'\\nimport matplotlib.pyplot as plt\\nimport torchvision.transforms as T\\n\\nfrom torchvision.datasets.cifar import CIFAR10\\nfrom torchvision.transforms import Compose\\nfrom torchvision.transforms import RandomHorizontalFlip, RandomCrop, Normalize\\n\\ntransforms = Compose([\\n    T.ToPILImage(),\\n    RandomCrop((32,32),padding=4),\\n    RandomHorizontalFlip(p=0.5),\\n\\n    #이미지정규화\\n    T.ToTensor(),\\n    Normalize(mean=(0.4914, 0.4822, 0.4465), std=(0.247, 0.243, 0.261)),\\n    T.ToPILImage()\\n])\\n\\ntraining_data = CIFAR10(\\n    root=\"./\",\\n    train=True,\\n    download=True,\\n    transform=transforms\\n)\\n\\ntest_data = CIFAR10(\\n    root=\"./\",\\n    train=False,\\n    download=True,\\n    transform=transforms\\n)\\n\\nfor i in range(9):\\n  plt.subplot(3,3,i+1)\\n  plt.imshow(transforms(training_data.data[i]))\\nplt.show()\\n'"
            ],
            "application/vnd.google.colaboratory.intrinsic+json": {
              "type": "string"
            }
          },
          "metadata": {},
          "execution_count": 19
        }
      ]
    },
    {
      "cell_type": "markdown",
      "source": [
        "###2. CNN(VGG알고리즘)으로 이미지 분류하기\n",
        "<img src=\"https://ai-studio-static-online.cdn.bcebos.com/358f4af76ea0494093cec963202edeea1ff417d7db9a470f9503c99de8ebf23a\">"
      ],
      "metadata": {
        "id": "F4NCkxsJKOVd"
      }
    },
    {
      "cell_type": "code",
      "source": [
        "import torch\n",
        "import torch.nn as nn\n",
        "\n",
        "class BasicBlock(nn.Module): #기본 블록 정의\n",
        "  def __init__(self, in_channels, out_channels, hidden_dim):\n",
        "    super(BasicBlock, self).__init__() #nn.Module 클래스의 요소 상속\n",
        "\n",
        "    #합성곱층 정의\n",
        "    self.conv1 = nn.Conv2d(in_channels, hidden_dim, kernel_size=3, padding=1)\n",
        "    self.conv2 = nn.Conv2d(hidden_dim, out_channels, kernel_size=3, padding=1)\n",
        "    self.relu = nn.ReLU()\n",
        "\n",
        "    self.pool = nn.MaxPool2d(kernel_size=2, stride=2) #Maxpooling\n",
        "\n",
        "  def forward(self, x):\n",
        "    x=self.conv1(x)\n",
        "    x=self.relu(x)\n",
        "    x=self.conv2(x)\n",
        "    x=self.relu(x)\n",
        "    x=self.pool(x)\n",
        "\n",
        "    return x\n"
      ],
      "metadata": {
        "id": "0SMooxE3JxZ2"
      },
      "execution_count": 20,
      "outputs": []
    },
    {
      "cell_type": "code",
      "source": [
        "class CNN(nn.Module):\n",
        "  def __init__(self, num_classes):\n",
        "    super(CNN,self).__init__()\n",
        "\n",
        "    #합성곱 기본 블록정의\n",
        "    self.block1 = BasicBlock(in_channels=3, out_channels=32, hidden_dim=16)\n",
        "    self.block2 = BasicBlock(in_channels=32, out_channels=128, hidden_dim=64)\n",
        "    self.block3 = BasicBlock(in_channels=128, out_channels=256, hidden_dim=128)\n",
        "\n",
        "    #분류기 정의\n",
        "    self.fc1 = nn.Linear(in_features=4096, out_features=2048)\n",
        "    self.fc2 = nn.Linear(in_features=2048, out_features=256)\n",
        "    self.fc3 = nn.Linear(in_features=256, out_features=num_classes)\n",
        "\n",
        "    self.relu = nn.ReLU()\n",
        "\n",
        "  def forward(self, x):\n",
        "    x = self.block1(x)\n",
        "    x = self.block2(x)\n",
        "    x = self.block3(x) #출력 (-1, 256, 4, 4)\n",
        "    x = torch.flatten(x, start_dim=1)\n",
        "\n",
        "\n",
        "    x=self.fc1(x)\n",
        "    x=self.relu(x)\n",
        "    x=self.fc2(x)\n",
        "    x=self.relu(x)\n",
        "    x=self.fc3(x)\n",
        "\n",
        "    return x"
      ],
      "metadata": {
        "id": "IT-7-RS6NcHt"
      },
      "execution_count": 21,
      "outputs": []
    },
    {
      "cell_type": "code",
      "source": [
        "# 모델학습하기\n",
        "\n",
        "from torch.utils.data.dataloader import DataLoader\n",
        "from torch.optim.adam import Adam\n",
        "\n",
        "from torchvision.datasets.cifar import CIFAR10\n",
        "from torchvision.transforms import Compose\n",
        "from torchvision.transforms import RandomHorizontalFlip, RandomCrop, Normalize, ToTensor\n",
        "\n",
        "transforms = Compose([\n",
        "    RandomCrop((32,32,), padding=4),\n",
        "    RandomHorizontalFlip(p=0.5),\n",
        "    ToTensor(),\n",
        "    Normalize(mean=(0.4914, 0.4822, 0.4465), std=(0.247, 0.243, 0.261))\n",
        "])\n",
        "\n",
        "training_data = CIFAR10(\n",
        "    root=\"./\",\n",
        "    train=True,\n",
        "    download=True,\n",
        "    transform=transforms\n",
        ")\n",
        "\n",
        "test_data = CIFAR10(\n",
        "    root=\"./\",\n",
        "    train=False,\n",
        "    download=True,\n",
        "    transform=transforms\n",
        ")\n",
        "#데이터 로더 정의(학습시 데이터 로더가 데이터를 불러와 줌)\n",
        "train_loader=DataLoader(training_data, batch_size=32, shuffle=True)\n",
        "test_loader=DataLoader(test_data, batch_size=32, shuffle=False)\n",
        "\n",
        "device = \"cuda\" if torch.cuda.is_available() else \"cpu\"\n",
        "\n",
        "model = CNN(num_classes=10)\n",
        "\n",
        "model.to(device)"
      ],
      "metadata": {
        "colab": {
          "base_uri": "https://localhost:8080/"
        },
        "id": "EKPjtmziRQs0",
        "outputId": "2fb8a7c8-ac9c-4228-8b71-b1914b1ccceb"
      },
      "execution_count": 22,
      "outputs": [
        {
          "output_type": "stream",
          "name": "stdout",
          "text": [
            "Files already downloaded and verified\n",
            "Files already downloaded and verified\n"
          ]
        },
        {
          "output_type": "execute_result",
          "data": {
            "text/plain": [
              "CNN(\n",
              "  (block1): BasicBlock(\n",
              "    (conv1): Conv2d(3, 16, kernel_size=(3, 3), stride=(1, 1), padding=(1, 1))\n",
              "    (conv2): Conv2d(16, 32, kernel_size=(3, 3), stride=(1, 1), padding=(1, 1))\n",
              "    (relu): ReLU()\n",
              "    (pool): MaxPool2d(kernel_size=2, stride=2, padding=0, dilation=1, ceil_mode=False)\n",
              "  )\n",
              "  (block2): BasicBlock(\n",
              "    (conv1): Conv2d(32, 64, kernel_size=(3, 3), stride=(1, 1), padding=(1, 1))\n",
              "    (conv2): Conv2d(64, 128, kernel_size=(3, 3), stride=(1, 1), padding=(1, 1))\n",
              "    (relu): ReLU()\n",
              "    (pool): MaxPool2d(kernel_size=2, stride=2, padding=0, dilation=1, ceil_mode=False)\n",
              "  )\n",
              "  (block3): BasicBlock(\n",
              "    (conv1): Conv2d(128, 128, kernel_size=(3, 3), stride=(1, 1), padding=(1, 1))\n",
              "    (conv2): Conv2d(128, 256, kernel_size=(3, 3), stride=(1, 1), padding=(1, 1))\n",
              "    (relu): ReLU()\n",
              "    (pool): MaxPool2d(kernel_size=2, stride=2, padding=0, dilation=1, ceil_mode=False)\n",
              "  )\n",
              "  (fc1): Linear(in_features=4096, out_features=2048, bias=True)\n",
              "  (fc2): Linear(in_features=2048, out_features=256, bias=True)\n",
              "  (fc3): Linear(in_features=256, out_features=10, bias=True)\n",
              "  (relu): ReLU()\n",
              ")"
            ]
          },
          "metadata": {},
          "execution_count": 22
        }
      ]
    },
    {
      "cell_type": "code",
      "source": [
        "lr = 1e-3\n",
        "\n",
        "optim = Adam(model.parameters(), lr=lr)\n",
        "\n",
        "for epoch in range(100):\n",
        "  for data, label in train_loader:\n",
        "    optim.zero_grad()\n",
        "    preds = model(data.to(device))\n",
        "\n",
        "    loss = nn.CrossEntropyLoss()(preds, label.to(device))\n",
        "    loss.backward()\n",
        "    optim.step()\n",
        "\n",
        "  if epoch==0 or epoch%10 == 9:\n",
        "    print(f\"epoch{epoch+1} loss:{loss.item()}\")\n",
        "\n",
        "torch.save(model.state_dict(), \"CIFAR.pth\")"
      ],
      "metadata": {
        "colab": {
          "base_uri": "https://localhost:8080/"
        },
        "id": "BaJ5G30aXzAz",
        "outputId": "7d7e23b1-793e-42eb-aa97-62c1c1051215"
      },
      "execution_count": 23,
      "outputs": [
        {
          "output_type": "stream",
          "name": "stdout",
          "text": [
            "epoch1 loss:1.1286242008209229\n",
            "epoch10 loss:0.3660776615142822\n",
            "epoch20 loss:0.5884189009666443\n",
            "epoch30 loss:0.6462422609329224\n",
            "epoch40 loss:0.4121656119823456\n",
            "epoch50 loss:0.3190353512763977\n",
            "epoch60 loss:0.0385807603597641\n",
            "epoch70 loss:0.6034855842590332\n",
            "epoch80 loss:0.023218614980578423\n",
            "epoch90 loss:0.05036120116710663\n",
            "epoch100 loss:0.05615365505218506\n"
          ]
        }
      ]
    },
    {
      "cell_type": "code",
      "source": [
        "model.load_state_dict(torch.load(\"CIFAR.pth\", map_location=device))\n",
        "num_corr = 0\n",
        "\n",
        "with torch.no_grad():\n",
        "  for data, label in test_loader:\n",
        "\n",
        "    output = model(data.to(device))\n",
        "    preds = output.data.max(1)[1]\n",
        "    corr = preds.eq(label.to(device).data).sum().item()\n",
        "    num_corr += corr\n",
        "\n",
        "  print(f\"Accuracy:{num_corr/len(test_data)}\")"
      ],
      "metadata": {
        "colab": {
          "base_uri": "https://localhost:8080/"
        },
        "id": "RG1BYWAxaQkQ",
        "outputId": "5d4a89e0-0c26-4e09-acca-fb44cc645fd1"
      },
      "execution_count": 26,
      "outputs": [
        {
          "output_type": "stream",
          "name": "stdout",
          "text": [
            "Accuracy:0.8383\n"
          ]
        }
      ]
    }
  ]
}